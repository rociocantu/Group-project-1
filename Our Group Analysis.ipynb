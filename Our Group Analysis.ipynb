{
 "cells": [
  {
   "cell_type": "markdown",
   "id": "4f7b3cf4",
   "metadata": {},
   "source": [
    "# Logs\n",
    "##### October 28 2023   \n",
    "> upload source file credit_card.csv, please download\n",
    "##### October 28 2023   \n",
    "> create Manal's branch\n",
    "##### Nov 1 2023   \n",
    "> upload \"Manal's plotting\"   \n",
    "> upload \"Data Visulization Project one.ipynb\"\n",
    "##### Nov 4 2023\n",
    "> upload \"Manal's TTest.ipynb\"    \n",
    "> upload \"Our Group Analysis\"   \n",
    "> upload \"Data Visulization Project one.ipynb\""
   ]
  },
  {
   "cell_type": "markdown",
   "id": "c0e98f2e",
   "metadata": {},
   "source": [
    "# Our Group Analysis:"
   ]
  },
  {
   "cell_type": "markdown",
   "id": "222c142a",
   "metadata": {},
   "source": [
    "# Dataset Description:   \n",
    "#This credit card dataset consists of 10,000 datasets for different customers according to their education level, gender, income level, total transaction amount on their credit card, and how long these accounts are on the book. The data is about twenty columns; it shows the spending habits of these customers. \n",
    "\n",
    "#From our dataset, there are two types of customers: the existing customers that continue to open credit card accounts and the attrition customers that cease to exist because they closed their credit card accounts, the credit card companies canceled their accounts, and they had no activity on their credit card. \n",
    "\n"
   ]
  },
  {
   "cell_type": "markdown",
   "id": "4851ed06",
   "metadata": {},
   "source": [
    "### Columns\n",
    "* CLIENTNUM: this is customer_id\n",
    "* Attrition_flag: contains existing customer and attrited customer.\n",
    "* Customer_Age: contains customers of different ages.\n",
    "* Gender: deals with whether the customers are male or female.\n",
    "* Dependent_count: deals with the number of dependents per household.\n",
    "* Education_level: deals with the education level of customers whether they are in high school, graduate, uneducated, college,   post-graduate, doctorate, or unknown status.\n",
    "* Marital_Status: deals with the different customer statuses if they are married, single, divorced, or unknown.\n",
    "* Income_Category: contains the different income levels for various customers.\n",
    "* Card_Category: contains the various credit cards and their credit limit.\n",
    "* Months_on_books: contains how long the credit card balance stayed on the bank's record.\n",
    "* Avg_Open_To_Buy: contains the average open credit card.\n",
    "* Total_Trans_Amt: contains the total transaction amounts for customers that have credit cards.\n",
    "* Total_Trans_Ct: contains the total count for credit card transactions.\n",
    "\n",
    "\n",
    "\n"
   ]
  },
  {
   "cell_type": "markdown",
   "id": "b38c9034",
   "metadata": {},
   "source": [
    "# Through our group project, our data answers the following questions:"
   ]
  },
  {
   "cell_type": "markdown",
   "id": "cbe13c8a",
   "metadata": {},
   "source": [
    "# How does income affect credit card debt?"
   ]
  },
  {
   "cell_type": "markdown",
   "id": "cc9dd7eb",
   "metadata": {},
   "source": [
    "#From our analysis, we notice that income affects credit card debt. From the charts below, more customer default on their credit cards as their income goes up. \n",
    "\n",
    "#From the table below, we notice more credit card debt in higher-income customers than in lower-income customers. Customers     with income higher income (120K) default by 17.33% than those with income less than ($40K); they default by about 17.19%.    \n",
    "\n",
    "#Please see the table and row chart below:"
   ]
  },
  {
   "cell_type": "markdown",
   "id": "207e9b52",
   "metadata": {},
   "source": [
    "![my picturename](Pic/Income_Category.png)\n",
    "my_picturename"
   ]
  },
  {
   "cell_type": "markdown",
   "id": "8d7c25c8",
   "metadata": {},
   "source": [
    "# What causes most credit card debt?"
   ]
  },
  {
   "cell_type": "markdown",
   "id": "cc620f96",
   "metadata": {},
   "source": [
    "* There are so many reasons for credit card debt. One of these causes is that customers pay the minimum on their credit cards, and that is shown in the histogram below:  \n"
   ]
  },
  {
   "cell_type": "markdown",
   "id": "2b9c318b",
   "metadata": {},
   "source": [
    "![my picturename](Pic/Picture3.png)\n",
    "my_picturename"
   ]
  },
  {
   "cell_type": "markdown",
   "id": "58faa284",
   "metadata": {},
   "source": [
    "* From that histogram, customers here default on their credit cards, and their accounts age, and in the long run, their accounts stay longer than 44 months on the books. \n",
    "\n",
    "* These accounts cause customers with less than 40K to have bad credit rating than customers with higher income 80K to 120K, their accounts last for 36 months."
   ]
  },
  {
   "cell_type": "markdown",
   "id": "1311016e",
   "metadata": {},
   "source": [
    "![my picturename](Pic/table.png)\n",
    "my_picturename"
   ]
  },
  {
   "cell_type": "markdown",
   "id": "7a3251c1",
   "metadata": {},
   "source": [
    "*Also, there is a strong linear regression relationship between the total count and the total amount of credit card transactions. That relationship causes the amount and count of credit card transactions to move in the same direction. That means that as more customers open credit cards, they only pay the minimum amount, and that causes their total amount of credit card amount to increase. "
   ]
  },
  {
   "cell_type": "markdown",
   "id": "d62c1e07",
   "metadata": {},
   "source": [
    "![my picturename](Pic/reg.png)\n",
    "my_picturename"
   ]
  },
  {
   "cell_type": "markdown",
   "id": "820e3aae",
   "metadata": {},
   "source": [
    "# Is credit card debt worse for those with higher income or lower income?"
   ]
  },
  {
   "cell_type": "markdown",
   "id": "07c1ae17",
   "metadata": {},
   "source": [
    "* In our analysis, we notice that credit card debt is worse for those with higher incomes than those with lower incomes. The higher the income, the more debt customers tend to fall into because those customers want to buy everything, they want the better homes, cars, and vacations; for example, customers that have an income less than 40k have a percentage of 17.19% of credit card debt. Customers with income greater than 120k have a percentage of about 17.33."
   ]
  },
  {
   "cell_type": "markdown",
   "id": "953bb425",
   "metadata": {},
   "source": [
    "![my picturename](Pic/Income.png)\n",
    "my_picturename"
   ]
  },
  {
   "cell_type": "markdown",
   "id": "812e9d25",
   "metadata": {},
   "source": [
    "# Is there a correlation between income, education, and credit card debt?"
   ]
  },
  {
   "cell_type": "markdown",
   "id": "6fbd2e72",
   "metadata": {},
   "source": [
    "* There is a strong correlation between income, education, and credit card debt. In the relationship between education and credit card debt, customers with graduate degrees default more on their credit card debt than high school, uneducated, college, post-graduate, and doctorate customers. As shown in the bar charts below, the value count for graduates is about 3,128, which is higher than the value count for high school customers, which is about 2,013. "
   ]
  },
  {
   "cell_type": "markdown",
   "id": "ccdaf072",
   "metadata": {},
   "source": [
    "![my picturename](Pic/Picture7.png)\n",
    "my_picturename"
   ]
  },
  {
   "cell_type": "markdown",
   "id": "8775af26",
   "metadata": {},
   "source": [
    "* The higher the education, the higher the credit card debt because customers with graduate degrees spend more than other customers. The pie chart below shows that the graduate students' spending is about 30.89%, which is higher than the spending of the high school customers, who spend approximately 19.88%, and the spending of the uneducated customers, who spend about 14.68%. In that pie chart, the smallest value count is for the postgraduate customers, who spend about 5.10%, while the highest is for the graduate customers, who spend 30.89%."
   ]
  },
  {
   "cell_type": "markdown",
   "id": "afe8e0a6",
   "metadata": {},
   "source": [
    "![my picturename](Pic/Piechart.png)\n",
    "my_picturename"
   ]
  },
  {
   "cell_type": "markdown",
   "id": "d5545255",
   "metadata": {},
   "source": [
    "* Furthermore, there is a relationship between income and credit card debt. From our analysis, we see that the income level greater than 120K is about 17.33% more than the income for customers that earn 40K to 60K, which is approximately 15.14%.  \n",
    "\n",
    "* As income increases, there is more credit card debt, as higher-income customers spend more on their credit cards than lower-income customers. These customers want to live better, have bigger homes, and take vacations. These customers have access to a larger credit limit because of their income."
   ]
  },
  {
   "cell_type": "markdown",
   "id": "12c37abb",
   "metadata": {},
   "source": [
    "# TESTS"
   ]
  },
  {
   "cell_type": "markdown",
   "id": "d4554766",
   "metadata": {},
   "source": [
    "#TTest Result: we realized that if you decrease the customer’s credit limit, their total transactions will significantly decrease. In order to limit the customers’ spending, we have to decrease their credit limit. We have tested that on the data below:"
   ]
  },
  {
   "cell_type": "markdown",
   "id": "66541c9e",
   "metadata": {},
   "source": [
    "![my picturename](Pic/Picture1.png)\n",
    "my_picturename"
   ]
  },
  {
   "cell_type": "markdown",
   "id": "c6a23d55",
   "metadata": {},
   "source": [
    "![my picturename](Pic/Picture11.png)\n",
    "my_picturename"
   ]
  },
  {
   "cell_type": "markdown",
   "id": "4ad8f27a",
   "metadata": {},
   "source": [
    "#Anova:It is is an extension of the Ttest, the distribution is significantly different because the mean value is different \n",
    "in six different groups and outlier group (Q3+1.5IQR) is different. So, these six groups have significant differences."
   ]
  },
  {
   "cell_type": "markdown",
   "id": "6d277a47",
   "metadata": {},
   "source": [
    "![my picturename](Pic/Picture5.png)\n",
    "my_picturename"
   ]
  },
  {
   "cell_type": "markdown",
   "id": "6f703f59",
   "metadata": {},
   "source": [
    "#CHI Square test is another test to test if there is a relationship or no relationship between the data. Here the P is greater than 0.05 so there is no relationship, so there is no hypothesis. We tested Group A and B, and in the result: there is fail to reject the null hypothesis; there is no significant difference between the Total_Trans_Amt of Group A and Group B.\n",
    "\n"
   ]
  },
  {
   "cell_type": "markdown",
   "id": "7807dbf0",
   "metadata": {},
   "source": [
    "![my picturename](Pic/chi.png)\n",
    "my_picturename"
   ]
  },
  {
   "cell_type": "markdown",
   "id": "cb97abe4",
   "metadata": {},
   "source": [
    "![my picturename](Pic/Capture.png)\n",
    "my_picturename"
   ]
  },
  {
   "cell_type": "markdown",
   "id": "3796a235",
   "metadata": {},
   "source": [
    "# Works Cited\n",
    "\n",
    "Knowledge, H. W. (2013, November 11). A Smarter Way To Reduce Customer Churn. Forbes. https://www.forbes.com/sites/hbsworkingknowledge/2013/11/11/a-smarter-way-to-reduce-customer-churn/?sh=1d57f8b02c0a\n",
    "\n",
    "Martin, E. J. (n.d.). Attacking credit card debt as a higher earner. Bankrate. https://www.bankrate.com/finance/credit-cards/high-earners-in-debt/#issue \n"
   ]
  },
  {
   "cell_type": "code",
   "execution_count": null,
   "id": "b892d2ad",
   "metadata": {},
   "outputs": [],
   "source": []
  }
 ],
 "metadata": {
  "kernelspec": {
   "display_name": "Python 3 (ipykernel)",
   "language": "python",
   "name": "python3"
  },
  "language_info": {
   "codemirror_mode": {
    "name": "ipython",
    "version": 3
   },
   "file_extension": ".py",
   "mimetype": "text/x-python",
   "name": "python",
   "nbconvert_exporter": "python",
   "pygments_lexer": "ipython3",
   "version": "3.11.5"
  }
 },
 "nbformat": 4,
 "nbformat_minor": 5
}
